{
 "cells": [
  {
   "cell_type": "code",
   "execution_count": 1,
   "id": "74583efb-874c-4038-9537-d27dd5b2505b",
   "metadata": {},
   "outputs": [],
   "source": [
    "# Q. 1. What is the difference between a function and a method in Python?"
   ]
  },
  {
   "cell_type": "code",
   "execution_count": 2,
   "id": "1dc07666-9023-4a9c-80cf-21dc7d373c3d",
   "metadata": {},
   "outputs": [],
   "source": [
    "# they are differnt in the way they are called , below is example"
   ]
  },
  {
   "cell_type": "code",
   "execution_count": 3,
   "id": "4726ef2d-e89f-4fee-bd0d-069ba3ff0c31",
   "metadata": {},
   "outputs": [
    {
     "name": "stdout",
     "output_type": "stream",
     "text": [
      "hiiii\n"
     ]
    }
   ],
   "source": [
    "# function :\n",
    "def func():\n",
    "    print(\"hiiii\")\n",
    "func()    "
   ]
  },
  {
   "cell_type": "code",
   "execution_count": 4,
   "id": "8e151f29-ac92-47b8-b612-ca7762c636e1",
   "metadata": {},
   "outputs": [
    {
     "data": {
      "text/plain": [
       "4"
      ]
     },
     "execution_count": 4,
     "metadata": {},
     "output_type": "execute_result"
    }
   ],
   "source": [
    "# method :\n",
    "def add(a , b):\n",
    "    return a+b\n",
    "add(2,2)"
   ]
  },
  {
   "cell_type": "code",
   "execution_count": 5,
   "id": "bae1c72c-2bc0-4d05-8980-b79999cc6d7f",
   "metadata": {},
   "outputs": [],
   "source": [
    "# Q. 2 Explain the concept of function arguments and parameters in Python "
   ]
  },
  {
   "cell_type": "code",
   "execution_count": 6,
   "id": "9fc424f0-f451-4ceb-912f-7110c48594d4",
   "metadata": {},
   "outputs": [
    {
     "data": {
      "text/plain": [
       "('good morning', 'pw')"
      ]
     },
     "execution_count": 6,
     "metadata": {},
     "output_type": "execute_result"
    }
   ],
   "source": [
    "def func(name): # here name is the parameter\n",
    "    return(\"good morning\" , name)\n",
    "func(\"pw\") # pw is argument "
   ]
  },
  {
   "cell_type": "code",
   "execution_count": 7,
   "id": "906bbd8d-0b07-45d4-a7c1-59fcf7fd8bcd",
   "metadata": {},
   "outputs": [],
   "source": [
    "# Q . 3. What are the different ways to define and call a function in Python?"
   ]
  },
  {
   "cell_type": "code",
   "execution_count": 8,
   "id": "a7b9ae6c-e22c-4002-9ba8-1101527341aa",
   "metadata": {},
   "outputs": [
    {
     "name": "stdout",
     "output_type": "stream",
     "text": [
      "morning\n"
     ]
    }
   ],
   "source": [
    "# 1 . regular function\n",
    "def func():\n",
    "    print(\"morning\")\n",
    "func()    "
   ]
  },
  {
   "cell_type": "code",
   "execution_count": 13,
   "id": "6a86c59d-7cf1-49c7-b95a-0f6e0c83489f",
   "metadata": {},
   "outputs": [
    {
     "data": {
      "text/plain": [
       "('ni', 'her age is ', 19)"
      ]
     },
     "execution_count": 13,
     "metadata": {},
     "output_type": "execute_result"
    }
   ],
   "source": [
    "# 2 . function with default arguments\n",
    "def func(name , age):\n",
    "    return (name,\"her age is \",age)\n",
    "func(\"ni\" , 19)"
   ]
  },
  {
   "cell_type": "code",
   "execution_count": 14,
   "id": "83180ff0-9980-4d10-a50c-6ce06728aa6f",
   "metadata": {},
   "outputs": [
    {
     "data": {
      "text/plain": [
       "7"
      ]
     },
     "execution_count": 14,
     "metadata": {},
     "output_type": "execute_result"
    }
   ],
   "source": [
    "# 3. lambda \n",
    "add = lambda x , y : x + y\n",
    "add(3,4)"
   ]
  },
  {
   "cell_type": "code",
   "execution_count": 15,
   "id": "2f56d405-7f82-4838-b957-f99ac40ba3d0",
   "metadata": {},
   "outputs": [],
   "source": [
    "# Q . 4. What is the purpose of the `return` statement in a Python function?"
   ]
  },
  {
   "cell_type": "code",
   "execution_count": 16,
   "id": "a4d642ff-6a90-417d-b703-17fbed919a8b",
   "metadata": {},
   "outputs": [],
   "source": [
    "# ans  :  return statement is used to exit a function and send a value back to caller . basically return statement is used to give an\n",
    "      # output , it can return single value , multiple value or lists, dict , tuple etc "
   ]
  },
  {
   "cell_type": "code",
   "execution_count": 17,
   "id": "232ac8f4-0517-4240-929a-116268c2d09a",
   "metadata": {},
   "outputs": [],
   "source": [
    "# Q . 5 What are iterators in Python and how do they differ from iterables?"
   ]
  },
  {
   "cell_type": "code",
   "execution_count": 18,
   "id": "be0c058d-69f9-4bad-9efc-4c6a98894626",
   "metadata": {},
   "outputs": [],
   "source": [
    "# Ans : iterators are used to access elements , next() it produces next values whereas\n",
    "      # iterable is any python object capable of returning its members one at as time "
   ]
  },
  {
   "cell_type": "code",
   "execution_count": 19,
   "id": "5dc5a951-8d67-48f5-8ea7-b7087f4c9f7e",
   "metadata": {},
   "outputs": [
    {
     "data": {
      "text/plain": [
       "<generator object func at 0x74dba4160f20>"
      ]
     },
     "execution_count": 19,
     "metadata": {},
     "output_type": "execute_result"
    }
   ],
   "source": [
    "# Q. 6.  Explain the concept of generators in Python and how they are defined.\n",
    "\n",
    "# generators function uses \" yield \" keword to return value\n",
    "# produces items onlyy as needed \n",
    "def func(n):\n",
    "    yield(n*n)\n",
    "func(4)    "
   ]
  },
  {
   "cell_type": "code",
   "execution_count": 21,
   "id": "70f6df3a-5940-4b77-bf06-b417d9023c34",
   "metadata": {},
   "outputs": [],
   "source": [
    "# Q. 7. What are the advantages of using generators over regular functions?\n",
    "# simpler code for iteration\n",
    "# memory efficiency \n",
    "# easy to understand\n",
    "# simpler to code "
   ]
  },
  {
   "cell_type": "code",
   "execution_count": 23,
   "id": "ffa06f9e-4e6f-4a20-8d8c-be28cd1b1bee",
   "metadata": {},
   "outputs": [
    {
     "data": {
      "text/plain": [
       "25"
      ]
     },
     "execution_count": 23,
     "metadata": {},
     "output_type": "execute_result"
    }
   ],
   "source": [
    "# Q. 8  What is a lambda function in Python and when is it typically used?\n",
    "# ans : is a small anonymous function defined using lambda keyword \n",
    "# example :\n",
    "sq = lambda x : x* x\n",
    "sq(5)"
   ]
  },
  {
   "cell_type": "code",
   "execution_count": 24,
   "id": "bd49b2fe-ffdc-41f7-b86c-29c5f6a3960f",
   "metadata": {},
   "outputs": [],
   "source": [
    "# Q.9 Explain the purpose and usage of the `map()` function in Python.\n",
    "# map() function is used to apply a givem function to each item in an iterable and return iterator that produces a result \n",
    "def sq(x):\n",
    "    return x*x\n",
    "num=[1,2,3]"
   ]
  },
  {
   "cell_type": "code",
   "execution_count": 25,
   "id": "21cab41e-2991-41ef-8ffa-8c928c083e8a",
   "metadata": {},
   "outputs": [],
   "source": [
    "sq=map(sq, num)"
   ]
  },
  {
   "cell_type": "code",
   "execution_count": 26,
   "id": "e78b7924-e677-4346-9954-6c02ff4e8612",
   "metadata": {},
   "outputs": [
    {
     "name": "stdout",
     "output_type": "stream",
     "text": [
      "[1, 4, 9]\n"
     ]
    }
   ],
   "source": [
    "print(list(sq))"
   ]
  },
  {
   "cell_type": "code",
   "execution_count": 27,
   "id": "f30d5c4e-0cfb-4633-a93a-b8ece18eba65",
   "metadata": {},
   "outputs": [],
   "source": [
    "# Q. 10 What is the difference between `map()`, `reduce()`, and `filter()` functions in Python?\n",
    "# Ans : map() applies a function to each iteam in an iterable and returns an iterator within results\n",
    "# filter() return an items for which function is \" true\"\n",
    "# reduce() reduces them to a single value "
   ]
  },
  {
   "cell_type": "code",
   "execution_count": 1,
   "id": "4954e737-b13f-4daa-8560-6f6a1e65a932",
   "metadata": {},
   "outputs": [],
   "source": [
    "# Q. 11 Using pen & Paper write the internal mechanism for sum operation using  reduce function on this given\n",
    "# list:[47,11,42,13]; \n",
    "\n",
    "\n",
    "# image is at the bottom\n"
   ]
  },
  {
   "cell_type": "code",
   "execution_count": 2,
   "id": "cc20084b-9fde-49a5-9d8d-a70e035cd0c1",
   "metadata": {},
   "outputs": [],
   "source": [
    "# PRACTICAL  QUESTIONS "
   ]
  },
  {
   "cell_type": "code",
   "execution_count": 3,
   "id": "1154765f-c12e-4863-8724-62713a851e26",
   "metadata": {},
   "outputs": [],
   "source": [
    "# Q. 1.  Write a Python function that takes a list of numbers as input and returns the sum of all even numbers in\n",
    "# the list."
   ]
  },
  {
   "cell_type": "code",
   "execution_count": 8,
   "id": "aa0e8904-aff9-4ff9-9d77-5e2fb39c9dec",
   "metadata": {},
   "outputs": [
    {
     "data": {
      "text/plain": [
       "30"
      ]
     },
     "execution_count": 8,
     "metadata": {},
     "output_type": "execute_result"
    }
   ],
   "source": [
    "def func(n):\n",
    "    total=0\n",
    "    for i in n:\n",
    "        if(i%2==0):\n",
    "            total+= i\n",
    "    return total \n",
    "   \n",
    "func([1,2,3,4,5,6,7,8,9,10])\n",
    "    "
   ]
  },
  {
   "cell_type": "code",
   "execution_count": 9,
   "id": "908aa536-8b73-46e6-9434-9b64d5982ed3",
   "metadata": {},
   "outputs": [],
   "source": [
    "# Q. 2. Create a Python function that accepts a string and returns the reverse of that string."
   ]
  },
  {
   "cell_type": "code",
   "execution_count": 18,
   "id": "a50ec7a9-ebf4-47a0-b4a7-d899c75863ef",
   "metadata": {},
   "outputs": [],
   "source": [
    "def func(n):\n",
    "    rev=n[::-1]\n",
    "    return rev\n",
    "    "
   ]
  },
  {
   "cell_type": "code",
   "execution_count": 19,
   "id": "528deeb8-5d44-4bf6-a6c0-5346b4d808b3",
   "metadata": {},
   "outputs": [
    {
     "data": {
      "text/plain": [
       "'olleh'"
      ]
     },
     "execution_count": 19,
     "metadata": {},
     "output_type": "execute_result"
    }
   ],
   "source": [
    "func(\"hello\")"
   ]
  },
  {
   "cell_type": "code",
   "execution_count": 20,
   "id": "3f722b20-934f-4b49-981f-ebf10510af07",
   "metadata": {},
   "outputs": [],
   "source": [
    "# Q. 3  Implement a Python function that takes a list of integers and returns a new list containing the squares of\n",
    "# each number."
   ]
  },
  {
   "cell_type": "code",
   "execution_count": 21,
   "id": "70f5eb35-f783-40e2-839a-e6393ce17a0c",
   "metadata": {},
   "outputs": [
    {
     "data": {
      "text/plain": [
       "[25, 16, 9, 81]"
      ]
     },
     "execution_count": 21,
     "metadata": {},
     "output_type": "execute_result"
    }
   ],
   "source": [
    "def func(n):\n",
    "    sq=[]\n",
    "    for i in n :\n",
    "        sq.append(i*i)\n",
    "    return sq\n",
    "func([5,4,3,9])\n",
    "        \n",
    "        "
   ]
  },
  {
   "cell_type": "code",
   "execution_count": 22,
   "id": "69c76c7a-b31c-471d-805d-a7e753ff9750",
   "metadata": {},
   "outputs": [],
   "source": [
    "# Q. Write a Python function that checks if a given number is prime or not from 1 to 200."
   ]
  },
  {
   "cell_type": "code",
   "execution_count": 25,
   "id": "5748038e-fdaa-482a-a701-76d3caaba9c4",
   "metadata": {},
   "outputs": [
    {
     "data": {
      "text/plain": [
       "True"
      ]
     },
     "execution_count": 25,
     "metadata": {},
     "output_type": "execute_result"
    }
   ],
   "source": [
    "def func(n):\n",
    "    if n<2 or n > 200:\n",
    "        return False\n",
    "    for i in range(2,int(n**0.5)+1):\n",
    "        if n % i == 0:\n",
    "            return False\n",
    "    return True\n",
    "func(29)\n"
   ]
  },
  {
   "cell_type": "code",
   "execution_count": 26,
   "id": "14ced9d4-f348-4d9f-8979-c531f2588d9d",
   "metadata": {},
   "outputs": [],
   "source": [
    "# Q. . Create an iterator class in Python that generates the Fibonacci sequence up to a specified number of\n",
    "#terms."
   ]
  },
  {
   "cell_type": "code",
   "execution_count": 1,
   "id": "36a5f626-026b-4fd5-ab88-67de3bea0d30",
   "metadata": {},
   "outputs": [
    {
     "data": {
      "text/plain": [
       "<generator object fibo at 0x71dfb2c79a10>"
      ]
     },
     "execution_count": 1,
     "metadata": {},
     "output_type": "execute_result"
    }
   ],
   "source": [
    " def fibo(n):\n",
    "    a=0\n",
    "    b=1\n",
    "    for i in range(n):\n",
    "        yield a\n",
    "        a , b = b, a+b\n",
    "fibo(100)        \n",
    "        \n",
    "        "
   ]
  },
  {
   "cell_type": "code",
   "execution_count": 2,
   "id": "c9b76d4d-821a-490d-8f1c-966db06616e3",
   "metadata": {},
   "outputs": [],
   "source": [
    "f=fibo(100)"
   ]
  },
  {
   "cell_type": "code",
   "execution_count": 3,
   "id": "87111ab0-fce8-4adb-b3fe-c6e1b7af2dad",
   "metadata": {},
   "outputs": [
    {
     "data": {
      "text/plain": [
       "0"
      ]
     },
     "execution_count": 3,
     "metadata": {},
     "output_type": "execute_result"
    }
   ],
   "source": [
    "next(f)"
   ]
  },
  {
   "cell_type": "code",
   "execution_count": 4,
   "id": "2c0d07b4-1d80-4ec0-aa84-dabe74f1f53f",
   "metadata": {},
   "outputs": [
    {
     "data": {
      "text/plain": [
       "1"
      ]
     },
     "execution_count": 4,
     "metadata": {},
     "output_type": "execute_result"
    }
   ],
   "source": [
    "next(f)"
   ]
  },
  {
   "cell_type": "code",
   "execution_count": 5,
   "id": "7f032871-bc5c-40fb-952f-453e61b3d204",
   "metadata": {},
   "outputs": [],
   "source": [
    "# Q . 6 . Write a generator function in Python that yields the powers of 2 up to a given exponent."
   ]
  },
  {
   "cell_type": "code",
   "execution_count": 13,
   "id": "2c3724ad-1661-44b9-b88f-2e496515add2",
   "metadata": {},
   "outputs": [
    {
     "data": {
      "text/plain": [
       "<generator object func at 0x71dfb043b840>"
      ]
     },
     "execution_count": 13,
     "metadata": {},
     "output_type": "execute_result"
    }
   ],
   "source": [
    "def func(n):\n",
    "    for i in range(n+1):\n",
    "        yield 2**i\n",
    "func(2)        \n",
    "     \n",
    "    \n",
    "    "
   ]
  },
  {
   "cell_type": "code",
   "execution_count": 14,
   "id": "c9d35424-23c7-41b5-adf4-94a6ad35adc1",
   "metadata": {},
   "outputs": [
    {
     "name": "stdout",
     "output_type": "stream",
     "text": [
      "1\n",
      "2\n",
      "4\n",
      "8\n",
      "16\n",
      "32\n"
     ]
    }
   ],
   "source": [
    "n=5\n",
    "for value in func(n):\n",
    "    print(value)"
   ]
  },
  {
   "cell_type": "code",
   "execution_count": 15,
   "id": "f3594331-3c02-4985-b58e-c5f70c1e3284",
   "metadata": {},
   "outputs": [],
   "source": [
    "# Q . 7.  Implement a generator function that reads a file line by line and yields each line as a string"
   ]
  },
  {
   "cell_type": "code",
   "execution_count": 16,
   "id": "65da52f8-6148-4bf0-8fe0-dabdc43e2704",
   "metadata": {},
   "outputs": [],
   "source": [
    "def func(n):\n",
    "    with open(n , 'r') as file:\n",
    "        for line in file:\n",
    "            yield line\n",
    "    "
   ]
  },
  {
   "cell_type": "code",
   "execution_count": 17,
   "id": "4b74e11b-2326-43ab-ab0b-f9aeeee2f51f",
   "metadata": {},
   "outputs": [],
   "source": [
    "# Q . 8 Use a lambda function in Python to sort a list of tuples based on the second element of each tuple."
   ]
  },
  {
   "cell_type": "code",
   "execution_count": 18,
   "id": "cfebd6c0-e6fe-444b-97fb-820caf4f03b7",
   "metadata": {},
   "outputs": [
    {
     "name": "stdout",
     "output_type": "stream",
     "text": [
      "[(4, 0), (4, 1), (2, 2), (1, 3)]\n"
     ]
    }
   ],
   "source": [
    "tuples=[(1,3),(4,1),(2,2),(4,0)]\n",
    "sortedd = sorted(tuples , key=lambda x :x[1])\n",
    "print(sortedd)"
   ]
  },
  {
   "cell_type": "code",
   "execution_count": 19,
   "id": "39fe636b-86e1-416f-ba82-7f4ef5f68d90",
   "metadata": {},
   "outputs": [],
   "source": [
    "# Q. 9 . Write a Python program that uses `map()` to convert a list of temperatures from Celsius to Fahrenheit.\n"
   ]
  },
  {
   "cell_type": "code",
   "execution_count": 20,
   "id": "57460513-9ba8-4cc8-9809-a626856b8c21",
   "metadata": {},
   "outputs": [
    {
     "name": "stdout",
     "output_type": "stream",
     "text": [
      "[32.0, 68.0, 212.0]\n"
     ]
    }
   ],
   "source": [
    "cel=[0,20,100]\n",
    "ctof= lambda x : x*9/5+32\n",
    "far=list(map(ctof,cel))\n",
    "print(far)"
   ]
  },
  {
   "cell_type": "code",
   "execution_count": 1,
   "id": "ff8d9af7-8fa4-459d-be4e-443ac9f543cb",
   "metadata": {},
   "outputs": [],
   "source": [
    "# Q. 10  Create a Python program that uses `filter()` to remove all the vowels from a given string."
   ]
  },
  {
   "cell_type": "code",
   "execution_count": 3,
   "id": "a3b30da1-e24c-4afa-b28b-adb11f102255",
   "metadata": {},
   "outputs": [],
   "source": [
    "def func(n):\n",
    "    vowel=\"aeiouAEIOU\"\n",
    "    novowel=filter(lambda char : char not in vowel , n)\n",
    "    return ''.join(novowel)"
   ]
  },
  {
   "cell_type": "code",
   "execution_count": 4,
   "id": "5be28a25-2245-4860-b7b9-b07ff5c1afc0",
   "metadata": {},
   "outputs": [
    {
     "data": {
      "text/plain": [
       "'hll'"
      ]
     },
     "execution_count": 4,
     "metadata": {},
     "output_type": "execute_result"
    }
   ],
   "source": [
    "func(\"hello\")"
   ]
  },
  {
   "cell_type": "code",
   "execution_count": 5,
   "id": "8623b4e3-80c2-465c-9bc1-85048dabb6a4",
   "metadata": {},
   "outputs": [],
   "source": [
    "# Q . 11. Imagine an accounting routine used in a book shop. It works on a list with sublists, which look like this:"
   ]
  },
  {
   "cell_type": "code",
   "execution_count": 6,
   "id": "83c79d93-c380-47c8-b194-4352f1ccf2b2",
   "metadata": {},
   "outputs": [
    {
     "name": "stdout",
     "output_type": "stream",
     "text": [
      "[(34587, 163.8), (98762, 284.0), (77226, 108.85), (88112, 84.97)]\n"
     ]
    }
   ],
   "source": [
    "order=[[34587 , \"learning python\" , 4 , 40.95],[98762 , \"programming python\",5,56.80],[77226,\"head first python\",3,32.95],[88112,\"Einfughrung in pythin\" , 3 , 24.99]]\n",
    "total=list(map(lambda order:( order[0] , round(order[2]*order[3] + 10 if order[2] * order[3]<100 else order[2] * order[3],2)),order))\n",
    "print(total)"
   ]
  },
  {
   "cell_type": "code",
   "execution_count": null,
   "id": "65768135-04a0-4cee-a82b-23c05b2d2c15",
   "metadata": {},
   "outputs": [],
   "source": []
  }
 ],
 "metadata": {
  "kernelspec": {
   "display_name": "Python 3 (ipykernel)",
   "language": "python",
   "name": "python3"
  },
  "language_info": {
   "codemirror_mode": {
    "name": "ipython",
    "version": 3
   },
   "file_extension": ".py",
   "mimetype": "text/x-python",
   "name": "python",
   "nbconvert_exporter": "python",
   "pygments_lexer": "ipython3",
   "version": "3.10.8"
  }
 },
 "nbformat": 4,
 "nbformat_minor": 5
}
